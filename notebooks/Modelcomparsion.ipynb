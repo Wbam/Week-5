{
 "cells": [
  {
   "cell_type": "code",
   "execution_count": 1,
   "metadata": {},
   "outputs": [
    {
     "name": "stdout",
     "output_type": "stream",
     "text": [
      "XLM-Roberta: Accuracy = 0.80, F1 Score = 0.80\n",
      "DistilBERT: Accuracy = 0.80, F1 Score = 0.78\n",
      "mBERT: Accuracy = 0.80, F1 Score = 0.78\n"
     ]
    }
   ],
   "source": [
    "from sklearn.metrics import accuracy_score, f1_score\n",
    "\n",
    "y_true = [1, 0, 1, 1, 0]  \n",
    "y_pred_xlm = [1, 0, 1, 0, 0]  \n",
    "y_pred_distil = [1, 1, 1, 1, 0] \n",
    "y_pred_mbert = [1, 0, 1, 1, 1]  \n",
    "\n",
    "# Calculate metrics\n",
    "metrics = {\n",
    "    'XLM-Roberta': {\n",
    "        'accuracy': accuracy_score(y_true, y_pred_xlm),\n",
    "        'f1_score': f1_score(y_true, y_pred_xlm, average='weighted'),\n",
    "    },\n",
    "    'DistilBERT': {\n",
    "        'accuracy': accuracy_score(y_true, y_pred_distil),\n",
    "        'f1_score': f1_score(y_true, y_pred_distil, average='weighted'),\n",
    "    },\n",
    "    'mBERT': {\n",
    "        'accuracy': accuracy_score(y_true, y_pred_mbert),\n",
    "        'f1_score': f1_score(y_true, y_pred_mbert, average='weighted'),\n",
    "    },\n",
    "}\n",
    "\n",
    "# Print metrics\n",
    "for model, scores in metrics.items():\n",
    "    print(f\"{model}: Accuracy = {scores['accuracy']:.2f}, F1 Score = {scores['f1_score']:.2f}\")\n"
   ]
  }
 ],
 "metadata": {
  "kernelspec": {
   "display_name": "Python 3",
   "language": "python",
   "name": "python3"
  },
  "language_info": {
   "codemirror_mode": {
    "name": "ipython",
    "version": 3
   },
   "file_extension": ".py",
   "mimetype": "text/x-python",
   "name": "python",
   "nbconvert_exporter": "python",
   "pygments_lexer": "ipython3",
   "version": "3.12.6"
  }
 },
 "nbformat": 4,
 "nbformat_minor": 2
}
