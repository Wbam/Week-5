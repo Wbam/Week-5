{
 "cells": [
  {
   "cell_type": "code",
   "execution_count": 16,
   "metadata": {},
   "outputs": [
    {
     "name": "stdout",
     "output_type": "stream",
     "text": [
      "Labeled dataset saved to labeled_dataset.conll\n"
     ]
    }
   ],
   "source": [
    "import pandas as pd\n",
    "import re\n",
    "\n",
    "# Load the dataset containing messages\n",
    "dataset_file = 'fetched_messages.json'  \n",
    "output_file = 'labeled_dataset.conll'\n",
    "\n",
    "# Load the dataset\n",
    "with open(dataset_file, 'r', encoding='utf-8') as f:\n",
    "    messages = json.load(f)\n",
    "\n",
    "# Extract the message texts\n",
    "texts = [msg['text'] for msg in messages if msg['text'] is not None]\n",
    "\n",
    "# Function to label entities in CoNLL format\n",
    "def label_entities(text):\n",
    "    tokens = text.split()  \n",
    "    labeled_tokens = []  \n",
    "    # Patterns for identifying entities\n",
    "    product_pattern = re.compile(r'([A-Za-z0-9\\u1200-\\u137F\\s]+(?:\\s+[A-Za-z0-9\\u1200-\\u137F]+)*)') \n",
    "    price_pattern = re.compile(r'(ዋጋ\\s+\\d+\\s*ብር|\\d+\\s*ብር|በ\\s+\\d+\\s*ብር)')\n",
    "    loc_pattern = re.compile(r'(Addis Ababa|Bole|አዲስ አበባ|ቦሌ)')  \n",
    "\n",
    "    for token in tokens:\n",
    "        label = 'O'  # Default label for tokens outside any entity\n",
    "\n",
    "        # Check for product entities\n",
    "        if product_pattern.fullmatch(token):\n",
    "            if len(labeled_tokens) == 0 or labeled_tokens[-1][1] != 'B-Product':\n",
    "                label = 'B-Product'\n",
    "            else:\n",
    "                label = 'I-Product'\n",
    "\n",
    "        # Check for price entities\n",
    "        elif price_pattern.fullmatch(token):\n",
    "            if len(labeled_tokens) == 0 or labeled_tokens[-1][1] != 'B-PRICE':\n",
    "                label = 'B-PRICE'\n",
    "            else:\n",
    "                label = 'I-PRICE'\n",
    "\n",
    "        # Check for location entities\n",
    "        elif loc_pattern.fullmatch(token):\n",
    "            if len(labeled_tokens) == 0 or labeled_tokens[-1][1] != 'B-LOC':\n",
    "                label = 'B-LOC'\n",
    "            else:\n",
    "                label = 'I-LOC'\n",
    "\n",
    "        # Append the token and its label\n",
    "        labeled_tokens.append((token, label))\n",
    "\n",
    "    return labeled_tokens\n",
    "\n",
    "# Process each message and save to CoNLL format\n",
    "with open(output_file, 'w', encoding='utf-8') as f:\n",
    "    for text in texts[:50]:  # Process the first 50 messages\n",
    "        labeled_tokens = label_entities(text)\n",
    "\n",
    "        for token, label in labeled_tokens:\n",
    "            f.write(f\"{token}\\t{label}\\n\")\n",
    "        f.write(\"\\n\")  \n",
    "\n",
    "print(f\"Labeled dataset saved to {output_file}\")\n"
   ]
  }
 ],
 "metadata": {
  "kernelspec": {
   "display_name": "Python 3",
   "language": "python",
   "name": "python3"
  },
  "language_info": {
   "codemirror_mode": {
    "name": "ipython",
    "version": 3
   },
   "file_extension": ".py",
   "mimetype": "text/x-python",
   "name": "python",
   "nbconvert_exporter": "python",
   "pygments_lexer": "ipython3",
   "version": "3.12.6"
  }
 },
 "nbformat": 4,
 "nbformat_minor": 2
}
